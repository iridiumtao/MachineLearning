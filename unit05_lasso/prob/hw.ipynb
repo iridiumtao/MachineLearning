{
 "cells": [
  {
   "cell_type": "code",
   "id": "initial_id",
   "metadata": {
    "collapsed": true,
    "ExecuteTime": {
     "end_time": "2024-10-08T20:32:05.047305Z",
     "start_time": "2024-10-08T20:32:03.921506Z"
    }
   },
   "source": [
    "import numpy as np\n",
    "import matplotlib.pyplot as plt\n",
    "from sklearn.linear_model import LinearRegression\n",
    "from sklearn.metrics import r2_score"
   ],
   "outputs": [],
   "execution_count": 1
  },
  {
   "metadata": {},
   "cell_type": "code",
   "outputs": [],
   "execution_count": null,
   "source": [
    "# 1.(a)\n",
    "\n",
    "from sklearn.linear_model import LinearRegression\n",
    "from sklearn.metrics import r2_score\n",
    "\n",
    "best_rsq_test = None\n",
    "best_model = None\n",
    "best_feature = None\n",
    "\n",
    "n_feature = Xtr.shape[1]\n",
    "for i in range(n_feature):\n",
    "    model = LinearRegression() \n",
    "    \n",
    "    # extract i_th feature\n",
    "    Xtr_i = Xtr[:, i].reshape(-1, 1)\n",
    "    Xts_i = Xts[:, i].reshape(-1, 1)\n",
    "    \n",
    "    model.fit(Xtr_i, ytr[i])\n",
    "    yhat = model.predict(Xts_i)\n",
    "    \n",
    "    rsq_ts = r2_score(yts, yhat)\n",
    "    \n",
    "    if best_rsq_test is None or rsq_ts[i] > best_rsq_test:\n",
    "        best_rsq_test = rsq_ts[i]\n",
    "        best_model = model\n",
    "        best_feature = i"
   ],
   "id": "3513c48b534b399b"
  },
  {
   "metadata": {},
   "cell_type": "code",
   "outputs": [],
   "execution_count": null,
   "source": [
    "# 1.(b)\n",
    "\n",
    "best_rsq_test = None\n",
    "best_model = None\n",
    "best_feature = None\n",
    "\n",
    "n_feature = Xtr.shape[1]\n",
    "for i in range(n_feature):\n",
    "    for j in range(i+1, n_feature):\n",
    "        model = LinearRegression() \n",
    "        \n",
    "        # extract i_th feature\n",
    "        Xtr_i = Xtr[:, [i, j]]\n",
    "        Xts_i = Xts[:, [i, j]]\n",
    "        \n",
    "        model.fit(Xtr_i, ytr[i])\n",
    "        yhat = model.predict(Xts_i)\n",
    "        \n",
    "        rsq_ts = r2_score(yts, yhat)\n",
    "        \n",
    "        if best_rsq_test is None or rsq_ts[i] > best_rsq_test:\n",
    "            best_rsq_test = rsq_ts[i]\n",
    "            best_model = model\n",
    "            best_feature = i"
   ],
   "id": "9f2bb839637b705c"
  },
  {
   "metadata": {},
   "cell_type": "code",
   "outputs": [],
   "execution_count": null,
   "source": [
    "# 4. \n",
    "\n",
    "# •Normalize the training data to remove the mean and standard deviation from both Xtr and ytr.\n",
    "# •Fit the model on the normalized data.\n",
    "# •Predict the values yhat on the test data.\n",
    "# •Measure the RSS on the test data.\n",
    "\n",
    "from sklearn.preprocessing import StandardScaler\n",
    "from sklearn.model_selection import train_test_split\n",
    "from sklearn.metrics import r2_score\n",
    "import numpy as np\n",
    "\n",
    "Xtr, Xts, ytr, yts = train_test_split(Z, u)\n",
    "\n",
    "scaler_X = StandardScaler()\n",
    "scaler_y = StandardScaler()\n",
    "\n",
    "normalized_Xtr = scaler_X.fit_transform(Xtr)\n",
    "\n",
    "# .ravel(), make [[1], [2]] into [1, 2], same with ytr.reshape(-1)\n",
    "normalized_Ytr = scaler_y.fit_transform(ytr.reshape(-1, 1)).ravel()\n",
    "\n",
    "Xts_normalized = scaler_X.transform(Xts)\n",
    "\n",
    "model = SomeModel() # Creates a model\n",
    "model.fit(normalized_Xtr, normalized_Ytr) # Fits the model , expecting normalized features\n",
    "yhat_normalized = model.predict(Xts_normalized)\n",
    "\n",
    "yhat = scaler_y.inverse_transform(yhat_normalized.reshape(-1, 1)).ravel()\n",
    "\n",
    "rsq_ts = r2_score(yts, yhat)\n",
    "\n",
    "\n"
   ],
   "id": "8ed43e389a64ac39"
  },
  {
   "metadata": {},
   "cell_type": "code",
   "outputs": [],
   "execution_count": null,
   "source": [
    "# 5.\n",
    "from sklearn.linear_model import Lasso\n",
    "from sklearn.metrics import mean_squared_error\n",
    "import numpy as np\n",
    "\n",
    "#given xtr, ytr, xts, yts, a, b, lam\n",
    "\n",
    "# 1\n",
    "p = np.linspace(a, b, num=100) # alphas\n",
    "\n",
    "# 2\n",
    "ztr = np.sum(np.exp(-p.reshape(-1,1)*xtr))\n",
    "zts = np.sum(np.exp(-p.reshape(-1,1)*xts))\n",
    "model = Lasso(alpha=lam)\n",
    "model.fit(ztr,ytr)\n",
    "\n",
    "# 3\n",
    "yhat = model.predict(zts)\n",
    "test_error = mean_squared_error(y_true=yts, y_pred=yhat)\n",
    "\n",
    "# 4\n",
    "beta_hat = model.coef_\n",
    "top_k_indices = np.argsort(np.abs(beta_hat))[-3:][::-1]  # k=3\n",
    "\n",
    "top_k_alphas = p[top_k_indices]\n",
    "top_k_betas = beta_hat[top_k_indices]"
   ],
   "id": "d5061cbf6389c08b"
  }
 ],
 "metadata": {
  "kernelspec": {
   "display_name": "Python 3",
   "language": "python",
   "name": "python3"
  },
  "language_info": {
   "codemirror_mode": {
    "name": "ipython",
    "version": 2
   },
   "file_extension": ".py",
   "mimetype": "text/x-python",
   "name": "python",
   "nbconvert_exporter": "python",
   "pygments_lexer": "ipython2",
   "version": "2.7.6"
  }
 },
 "nbformat": 4,
 "nbformat_minor": 5
}
