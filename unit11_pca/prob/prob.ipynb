{
 "cells": [
  {
   "cell_type": "code",
   "id": "initial_id",
   "metadata": {
    "collapsed": true,
    "ExecuteTime": {
     "end_time": "2024-11-28T02:50:46.203566Z",
     "start_time": "2024-11-28T02:50:46.192985Z"
    }
   },
   "source": [
    "import numpy as np\n",
    "X = np.array([\n",
    "    [3, 2, 1],\n",
    "    [2, 4, 5],\n",
    "    [1, 2, 3],\n",
    "    [0, 2, 5]\n",
    "])\n",
    "mean_X = np.mean(X, axis=0)\n",
    "print(mean_X)\n",
    "print()\n",
    "# 1.b\n",
    "X_centered = X - mean_X\n",
    "Q = np.cov(X_centered, rowvar=False, bias=True)\n",
    "print(\"Sample covariance matrix Q:\")\n",
    "print(Q)"
   ],
   "outputs": [
    {
     "name": "stdout",
     "output_type": "stream",
     "text": [
      "[1.5 2.5 3.5]\n",
      "\n",
      "Sample covariance matrix Q:\n",
      "[[ 1.25  0.25 -1.25]\n",
      " [ 0.25  0.75  0.75]\n",
      " [-1.25  0.75  2.75]]\n"
     ]
    }
   ],
   "execution_count": 25
  },
  {
   "metadata": {
    "ExecuteTime": {
     "end_time": "2024-11-28T02:50:56.741473Z",
     "start_time": "2024-11-28T02:50:56.737804Z"
    }
   },
   "cell_type": "code",
   "source": [
    "# 1.c\n",
    "eig_vals, eig_vecs = np.linalg.eigh(Q)\n",
    "print(\"Eigenvalues:\", eig_vals)\n",
    "print(\"Eigenvectors:\\n\", eig_vecs)"
   ],
   "id": "95582e9382ca3298",
   "outputs": [
    {
     "name": "stdout",
     "output_type": "stream",
     "text": [
      "Eigenvalues: [0.01495506 1.1733803  3.56166464]\n",
      "Eigenvectors:\n",
      " [[ 0.59363515  0.66677184 -0.45056922]\n",
      " [-0.66472154  0.72187235  0.19247228]\n",
      " [ 0.45358856  0.18524476  0.87174641]]\n"
     ]
    }
   ],
   "execution_count": 28
  },
  {
   "metadata": {
    "ExecuteTime": {
     "end_time": "2024-11-28T02:51:47.400305Z",
     "start_time": "2024-11-28T02:51:47.398084Z"
    }
   },
   "cell_type": "code",
   "source": [
    "# 1.d\n",
    "Z = X_centered @ eig_vecs\n",
    "print(\"PCA coefficients:\\n\", Z)"
   ],
   "id": "4c5e4e06ddae47e0",
   "outputs": [
    {
     "name": "stdout",
     "output_type": "stream",
     "text": [
      "PCA coefficients:\n",
      " [[ 0.0888421   0.17610969 -2.95145599]\n",
      " [-0.0198819   1.69406159  1.37104342]\n",
      " [-0.19125108 -0.78694448 -0.30682473]\n",
      " [ 0.12229089 -1.0832268   1.8872373 ]]\n"
     ]
    }
   ],
   "execution_count": 29
  },
  {
   "metadata": {
    "ExecuteTime": {
     "end_time": "2024-11-28T02:39:42.225107Z",
     "start_time": "2024-11-28T02:39:42.215017Z"
    }
   },
   "cell_type": "code",
   "source": [
    "# 1.e\n",
    "X_reconstructed = Z @ eig_vecs.T + mean_X\n",
    "print(\"Reconstructed samples:\\n\", X_reconstructed)"
   ],
   "id": "56de8f63ad9e59b7",
   "outputs": [
    {
     "name": "stdout",
     "output_type": "stream",
     "text": [
      "Reconstructed samples:\n",
      " [[3.00000000e+00 2.00000000e+00 1.00000000e+00]\n",
      " [2.00000000e+00 4.00000000e+00 5.00000000e+00]\n",
      " [1.00000000e+00 2.00000000e+00 3.00000000e+00]\n",
      " [2.22044605e-16 2.00000000e+00 5.00000000e+00]]\n"
     ]
    }
   ],
   "execution_count": 16
  },
  {
   "metadata": {
    "ExecuteTime": {
     "end_time": "2024-11-28T02:53:42.908508Z",
     "start_time": "2024-11-28T02:53:42.902229Z"
    }
   },
   "cell_type": "code",
   "source": [
    "# 1.f\n",
    "idx = np.argsort(eig_vals)[-2:]\n",
    "Z_approx = Z[:, idx]\n",
    "eigvecs_approx = eig_vecs[:, idx]\n",
    "X_approx = Z_approx @ eigvecs_approx.T + mean_X\n",
    "print(\"Approximation using two largest eigenvalues:\\n\", X_approx)"
   ],
   "id": "9e1d02177e0ded93",
   "outputs": [
    {
     "name": "stdout",
     "output_type": "stream",
     "text": [
      "Approximation using two largest eigenvalues:\n",
      " [[ 2.94726021  2.05905526  0.95970224]\n",
      " [ 2.0118026   3.98678407  5.0090182 ]\n",
      " [ 1.11353336  1.87287129  3.0867493 ]\n",
      " [-0.07259617  2.08128939  4.94453025]]\n"
     ]
    }
   ],
   "execution_count": 30
  },
  {
   "metadata": {
    "ExecuteTime": {
     "end_time": "2024-11-28T02:53:46.492851Z",
     "start_time": "2024-11-28T02:53:46.489473Z"
    }
   },
   "cell_type": "code",
   "source": [
    "# 1.g\n",
    "reconstruction_error = np.sum((X_centered - Z_approx @ eigvecs_approx.T) ** 2)\n",
    "skipped_coefficients_sum = np.sum(Z[:, :-2] ** 2)\n",
    "print(\"Reconstruction error sum of squares:\", reconstruction_error)\n",
    "print(\"Sum of squares of skipped PCA coefficients:\", skipped_coefficients_sum)"
   ],
   "id": "9d4eb2c938a530e2",
   "outputs": [
    {
     "name": "stdout",
     "output_type": "stream",
     "text": [
      "Reconstruction error sum of squares: 0.059820245731225935\n",
      "Sum of squares of skipped PCA coefficients: 0.059820245731225956\n"
     ]
    }
   ],
   "execution_count": 31
  },
  {
   "metadata": {
    "ExecuteTime": {
     "end_time": "2024-11-28T03:04:07.331360Z",
     "start_time": "2024-11-28T03:04:07.324493Z"
    }
   },
   "cell_type": "code",
   "source": [
    "# 2.a\n",
    "mu = np.array([1, 0, 2])\n",
    "x = np.array([2, 3, 4])\n",
    "v1 = np.array([1, 1, 0]) / np.sqrt(2)\n",
    "v2 = np.array([1, -1, 0]) / np.sqrt(2)\n",
    "\n",
    "xc = x - mu\n",
    "c1 = np.dot(xc, v1)\n",
    "c2 = np.dot(xc, v2)\n",
    "print(\"PC coefficients:\", c1, c2)"
   ],
   "id": "a6322360481adcd5",
   "outputs": [
    {
     "name": "stdout",
     "output_type": "stream",
     "text": [
      "PC coefficients: 2.82842712474619 -1.414213562373095\n"
     ]
    }
   ],
   "execution_count": 33
  },
  {
   "metadata": {
    "ExecuteTime": {
     "end_time": "2024-11-28T03:04:45.630382Z",
     "start_time": "2024-11-28T03:04:45.627681Z"
    }
   },
   "cell_type": "code",
   "source": [
    "# 2.b\n",
    "x_hat = mu + c1 * v1 + c2 * v2\n",
    "print(\"Approximation of x:\", x_hat)"
   ],
   "id": "1f2b2ba62ed28b0c",
   "outputs": [
    {
     "name": "stdout",
     "output_type": "stream",
     "text": [
      "Approximation of x: [2. 3. 2.]\n"
     ]
    }
   ],
   "execution_count": 37
  },
  {
   "metadata": {
    "ExecuteTime": {
     "end_time": "2024-11-28T03:04:52.550971Z",
     "start_time": "2024-11-28T03:04:52.547231Z"
    }
   },
   "cell_type": "code",
   "source": [
    "# 2.c\n",
    "error = np.sum((x - x_hat) ** 2)\n",
    "print(\"Approximation error:\", error)"
   ],
   "id": "31f2e1de4c8761d7",
   "outputs": [
    {
     "name": "stdout",
     "output_type": "stream",
     "text": [
      "Approximation error: 4.0\n"
     ]
    }
   ],
   "execution_count": 39
  },
  {
   "metadata": {
    "ExecuteTime": {
     "end_time": "2024-11-29T19:31:12.713884Z",
     "start_time": "2024-11-29T19:31:12.125688Z"
    }
   },
   "cell_type": "code",
   "source": [
    "# 3 1~n components accuracy test\n",
    "from sklearn.model_selection import train_test_split\n",
    "from sklearn.decomposition import PCA\n",
    "from sklearn.linear_model import LogisticRegression\n",
    "from sklearn.metrics import accuracy_score\n",
    "\n",
    "def fitting_data_with_pcs(X, y):\n",
    "    Xtr, Xts, ytr, yts = train_test_split(X, y, test_size=0.25, shuffle=False)\n",
    "\n",
    "    best_accuracy = 0\n",
    "    best_n_components = 0\n",
    "\n",
    "    for i in range(1, Xtr.shape[1] +1):\n",
    "        pca = PCA(n_components=i)\n",
    "        Ztr = pca.fit_transform(Xtr)\n",
    "        Zts = pca.transform(Xts)\n",
    "\n",
    "        clf = LogisticRegression()\n",
    "        clf.fit(Ztr, ytr)\n",
    "\n",
    "        y_hat = clf.predict(Zts)\n",
    "        acc = accuracy_score(yts, y_hat)\n",
    "        if acc > best_accuracy:\n",
    "            best_accuracy = acc\n",
    "            best_n_components = i\n",
    "\n",
    "    print(\"Best n of PC:\", best_n_components)\n",
    "    print(\"Best accuracy:\", best_accuracy)"
   ],
   "id": "df8dcc535620bef3",
   "outputs": [],
   "execution_count": 40
  },
  {
   "metadata": {
    "ExecuteTime": {
     "end_time": "2024-11-29T19:31:24.565986Z",
     "start_time": "2024-11-29T19:31:24.541412Z"
    }
   },
   "cell_type": "code",
   "source": [
    "X = np.array([\n",
    "    [2.5, 3.0, 1.5, 2.8],\n",
    "    [1.5, 2.3, 3.0, 1.2],\n",
    "    [3.1, 3.5, 4.0, 4.2],\n",
    "    [4.5, 4.1, 2.0, 3.3],\n",
    "    [1.0, 1.5, 2.5, 2.0],\n",
    "    [2.2, 2.7, 3.1, 1.5],\n",
    "    [3.5, 3.3, 1.8, 2.7],\n",
    "    [2.1, 2.8, 4.0, 3.5],\n",
    "    [4.0, 3.8, 2.5, 3.9],\n",
    "    [1.8, 1.9, 3.4, 2.6],\n",
    "    [2.7, 3.5, 1.9, 2.4],\n",
    "    [1.4, 2.1, 2.9, 1.8],\n",
    "])\n",
    "\n",
    "y = np.array([0, 1, 1, 0, 1, 0, 0, 1, 1, 0, 0, 1])\n",
    "fitting_data_with_pcs(X, y)"
   ],
   "id": "c275cd9936edd934",
   "outputs": [
    {
     "name": "stdout",
     "output_type": "stream",
     "text": [
      "Best n of PC: 2\n",
      "Best accuracy: 0.6666666666666666\n"
     ]
    }
   ],
   "execution_count": 41
  },
  {
   "metadata": {
    "ExecuteTime": {
     "end_time": "2024-11-29T19:41:57.600820Z",
     "start_time": "2024-11-29T19:41:57.592842Z"
    }
   },
   "cell_type": "code",
   "source": [
    "# 4\n",
    "\n",
    "def pc_with_images(X):\n",
    "    X_reshaped = X.reshape(1000, -1)\n",
    "    Xtr = X_reshaped[:500]\n",
    "    Xts = X_reshaped[500:]\n",
    "\n",
    "    pca = PCA(n_components=5)\n",
    "    pca.fit_transform(Xtr)\n",
    "    pca.transform(Xts)\n",
    "\n",
    "    Zts = pca.transform(Xts)\n",
    "    Xts_approx = pca.inverse_transform(Zts)\n",
    "\n",
    "    Xts_approx_images = Xts_approx.reshape(500, 28, 28)\n",
    "    return Xts_approx_images\n"
   ],
   "id": "cb581abd3134ed20",
   "outputs": [],
   "execution_count": 42
  },
  {
   "metadata": {
    "ExecuteTime": {
     "end_time": "2024-11-30T20:13:18.190557Z",
     "start_time": "2024-11-30T20:13:18.170169Z"
    }
   },
   "cell_type": "code",
   "source": [
    "# 5\n",
    "from scipy.linalg import svd\n",
    "\n",
    "def pcs_using_svds(X):\n",
    "    mean_X = np.mean(X, axis=0)\n",
    "    print(\"Mean:\", mean_X)\n",
    "\n",
    "    X_centered = X - mean_X\n",
    "    U, s, Vtr = svd(X_centered, full_matrices=False)\n",
    "    var_explained = np.cumsum(s**2) / np.sum(s**2)\n",
    "    num_pcs = np.argmax(var_explained >= 0.9) + 1\n",
    "\n",
    "    print(f\"Number of PCs for 90% variance: {num_pcs}\")\n",
    "\n",
    "    U_reduced = U[:, :num_pcs]\n",
    "    s_reduced = s[:num_pcs]\n",
    "    Vtr_reduced = Vtr[:num_pcs, :]\n",
    "\n",
    "    X_approx = (U_reduced * s_reduced) @ Vtr_reduced + mean_X\n",
    "    return X_approx\n",
    "\n"
   ],
   "id": "3a226239d45e4dcf",
   "outputs": [],
   "execution_count": 43
  },
  {
   "metadata": {},
   "cell_type": "code",
   "outputs": [],
   "execution_count": null,
   "source": "",
   "id": "6adb00132a2bacb"
  }
 ],
 "metadata": {
  "kernelspec": {
   "display_name": "Python 3",
   "language": "python",
   "name": "python3"
  },
  "language_info": {
   "codemirror_mode": {
    "name": "ipython",
    "version": 2
   },
   "file_extension": ".py",
   "mimetype": "text/x-python",
   "name": "python",
   "nbconvert_exporter": "python",
   "pygments_lexer": "ipython2",
   "version": "2.7.6"
  }
 },
 "nbformat": 4,
 "nbformat_minor": 5
}
